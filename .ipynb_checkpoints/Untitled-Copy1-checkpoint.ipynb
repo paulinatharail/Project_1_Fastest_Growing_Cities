{
 "cells": [
  {
   "cell_type": "code",
   "execution_count": 3,
   "metadata": {},
   "outputs": [],
   "source": [
    "#Test BLS.gov API\n",
    "\n",
    "import requests\n",
    "import json\n",
    "#import prettytable\n",
    "\n",
    "from pprint import pprint\n"
   ]
  },
  {
   "cell_type": "code",
   "execution_count": 4,
   "metadata": {},
   "outputs": [
    {
     "name": "stdout",
     "output_type": "stream",
     "text": [
      "{'Results': {'series': [{'data': [{'footnotes': [{'code': 'P',\n",
      "                                                  'text': 'Preliminary.'}],\n",
      "                                   'latest': 'true',\n",
      "                                   'period': 'M09',\n",
      "                                   'periodName': 'September',\n",
      "                                   'value': '18643',\n",
      "                                   'year': '2018'}],\n",
      "                         'seriesID': 'LAUCN040010000000005'}]},\n",
      " 'message': [],\n",
      " 'responseTime': 200,\n",
      " 'status': 'REQUEST_SUCCEEDED'}\n"
     ]
    }
   ],
   "source": [
    "response = requests.get(\"https://api.bls.gov/publicAPI/v2/timeseries/data/LAUCN040010000000005?latest=true\").json()\n",
    "\n",
    "pprint(response)"
   ]
  },
  {
   "cell_type": "code",
   "execution_count": null,
   "metadata": {},
   "outputs": [],
   "source": [
    "headers = {'Content-type': 'application/json'}\n",
    "data = json.dumps({\"seriesid\": ['CUUR0000SA0','SUUR0000SA0'],\"startyear\":\"2007\", \"endyear\":\"2014\"})\n",
    "p = requests.post('https://api.bls.gov/publicAPI/v2/timeseries/data/', data=data, headers=headers)\n",
    "json_data = json.loads(p.text)\n",
    "for series in json_data['Results']['series']:\n",
    "    x=prettytable.PrettyTable([\"series id\",\"year\",\"period\",\"value\",\"footnotes\"])\n",
    "    seriesId = series['seriesID']\n",
    "    for item in series['data']:\n",
    "        year = item['year']\n",
    "        period = item['period']\n",
    "        value = item['value']\n",
    "        footnotes=\"\"\n",
    "        for footnote in item['footnotes']:\n",
    "            if footnote:\n",
    "                footnotes = footnotes + footnote['text'] + ','\n",
    "       'if 'M01' <= period <= 'M12':'\n",
    "            x.add_row([seriesId,year,period,value,footnotes[0:-1]])\n",
    "    output = open(seriesId + '.txt','w')\n",
    "    output.write (x.get_string())\n",
    "    output.close()"
   ]
  }
 ],
 "metadata": {
  "kernelspec": {
   "display_name": "Python 3",
   "language": "python",
   "name": "python3"
  },
  "language_info": {
   "codemirror_mode": {
    "name": "ipython",
    "version": 3
   },
   "file_extension": ".py",
   "mimetype": "text/x-python",
   "name": "python",
   "nbconvert_exporter": "python",
   "pygments_lexer": "ipython3",
   "version": "3.6.5"
  }
 },
 "nbformat": 4,
 "nbformat_minor": 2
}
