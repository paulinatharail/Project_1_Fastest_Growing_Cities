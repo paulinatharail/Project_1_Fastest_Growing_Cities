{
 "cells": [
  {
   "cell_type": "code",
   "execution_count": 2,
   "metadata": {},
   "outputs": [],
   "source": [
    "#Test BLS.gov API\n",
    "import bls\n",
    "import requests\n",
    "import json\n",
    "#import prettytable\n",
    "import pandas as pd"
   ]
  },
  {
   "cell_type": "code",
   "execution_count": 3,
   "metadata": {},
   "outputs": [],
   "source": [
    "from pprint import pprint\n",
    "from config import api_key\n",
    "from census import Census\n",
    "\n",
    "#c = Census(api_key, year=2013)\n",
    "#help(c)"
   ]
  },
  {
   "cell_type": "code",
   "execution_count": 4,
   "metadata": {},
   "outputs": [],
   "source": [
    "for yr in range(2012,2017,1):\n",
    "    c = Census(api_key, year=yr)\n",
    "#    print(yr)\n",
    "\n",
    "    try:\n",
    "        census_data = c.acs5.get((\"NAME\", \"B19013_001E\", \n",
    "                              \"B01003_001E\", \n",
    "                              \"B01002_001E\",\n",
    "                              \"B19301_001E\",\n",
    "                              \"B17001_002E\",\n",
    "                              \"B25064_001E\",\n",
    "                              \"B25088_002E\",\n",
    "                              \"B23025_004E\",\n",
    "                              \"B23025_005E\"\n",
    "                           ), {'for': 'zip code tabulation area:*'})\n",
    "\n",
    "        # Convert to DataFrame\n",
    "        census_pd = pd.DataFrame(census_data)\n",
    "\n",
    "        census_pd = census_pd.rename(columns={\"B01003_001E\": \"Total Population\",\n",
    "                                      \"B01002_001E\": \"Median Age\",\n",
    "                                      \"B19013_001E\": \"Median Household Income\",\n",
    "                                      \"B19301_001E\": \"Per Capita Income\",\n",
    "                                      \"B17001_002E\": \"Poverty Count\",\n",
    "                                      \"B25064_001E\":\"median_gross_rent\",\n",
    "                                      \"B25088_002E\": \"median_monthly_owner_costs\",\n",
    "                                      \"B23025_004E\":\"employment_employed\",\n",
    "                                      \"B23025_005E\":\"employment_unemployed\",\n",
    "                                      \"NAME\": \"Name\", \"zip code tabulation area\": \"Zipcode\"})\n",
    "        \n",
    "        #print(census_pd.loc[census_pd[\"Zipcode\"]==10055])\n",
    "        #break\n",
    "        census_pd.to_csv(f\"Data/census_{yr}.csv\")\n",
    "    except:\n",
    "        print(\"Some error\")\n",
    "        \n",
    "#census_pd.head()"
   ]
  }
 ],
 "metadata": {
  "kernelspec": {
   "display_name": "Python 3",
   "language": "python",
   "name": "python3"
  },
  "language_info": {
   "codemirror_mode": {
    "name": "ipython",
    "version": 3
   },
   "file_extension": ".py",
   "mimetype": "text/x-python",
   "name": "python",
   "nbconvert_exporter": "python",
   "pygments_lexer": "ipython3",
   "version": "3.6.5"
  }
 },
 "nbformat": 4,
 "nbformat_minor": 2
}
